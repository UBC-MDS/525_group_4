{
 "cells": [
  {
   "cell_type": "code",
   "execution_count": 2,
   "metadata": {},
   "outputs": [],
   "source": [
    "import re\n",
    "import os\n",
    "import glob\n",
    "import zipfile\n",
    "import requests\n",
    "from urllib.request import urlretrieve\n",
    "import json\n",
    "import pandas as pd"
   ]
  },
  {
   "cell_type": "code",
   "execution_count": 3,
   "metadata": {},
   "outputs": [
    {
     "name": "stdout",
     "output_type": "stream",
     "text": [
      "/Users/Daniel/Desktop/UBC_MDS/525/dsci_525_group_4/data\n"
     ]
    }
   ],
   "source": [
    "%cd /Users/Daniel/Desktop/UBC_MDS/525/dsci_525_group_4/data"
   ]
  },
  {
   "cell_type": "code",
   "execution_count": 20,
   "metadata": {},
   "outputs": [],
   "source": [
    "# Necessary metadata\n",
    "article_id = 14096681  # this is the unique identifier of the article on figshare\n",
    "url = f\"https://api.figshare.com/v2/articles/{article_id}\"\n",
    "headers = {\"Content-Type\": \"application/json\"}\n",
    "output_directory = \"figshare/\""
   ]
  },
  {
   "cell_type": "code",
   "execution_count": 21,
   "metadata": {},
   "outputs": [
    {
     "data": {
      "text/plain": [
       "[{'id': 26579150,\n",
       "  'name': 'daily_rainfall_2014.png',\n",
       "  'size': 58863,\n",
       "  'is_link_only': False,\n",
       "  'download_url': 'https://ndownloader.figshare.com/files/26579150',\n",
       "  'supplied_md5': 'fd32a2ffde300a31f8d63b1825d47e5e',\n",
       "  'computed_md5': 'fd32a2ffde300a31f8d63b1825d47e5e'},\n",
       " {'id': 26579171,\n",
       "  'name': 'environment.yml',\n",
       "  'size': 192,\n",
       "  'is_link_only': False,\n",
       "  'download_url': 'https://ndownloader.figshare.com/files/26579171',\n",
       "  'supplied_md5': '060b2020017eed93a1ee7dd8c65b2f34',\n",
       "  'computed_md5': '060b2020017eed93a1ee7dd8c65b2f34'},\n",
       " {'id': 26586554,\n",
       "  'name': 'README.md',\n",
       "  'size': 5422,\n",
       "  'is_link_only': False,\n",
       "  'download_url': 'https://ndownloader.figshare.com/files/26586554',\n",
       "  'supplied_md5': '61858c6cc0e6a6d6663a7e4c75bbd88c',\n",
       "  'computed_md5': '61858c6cc0e6a6d6663a7e4c75bbd88c'},\n",
       " {'id': 26766812,\n",
       "  'name': 'data.zip',\n",
       "  'size': 814041183,\n",
       "  'is_link_only': False,\n",
       "  'download_url': 'https://ndownloader.figshare.com/files/26766812',\n",
       "  'supplied_md5': 'b517383f76e77bd03755a63a8ff83ee9',\n",
       "  'computed_md5': 'b517383f76e77bd03755a63a8ff83ee9'},\n",
       " {'id': 26766815,\n",
       "  'name': 'get_data.py',\n",
       "  'size': 4113,\n",
       "  'is_link_only': False,\n",
       "  'download_url': 'https://ndownloader.figshare.com/files/26766815',\n",
       "  'supplied_md5': '7829028495fd9dec9680ea013474afa6',\n",
       "  'computed_md5': '7829028495fd9dec9680ea013474afa6'}]"
      ]
     },
     "execution_count": 21,
     "metadata": {},
     "output_type": "execute_result"
    }
   ],
   "source": [
    "response = requests.request(\"GET\", url, headers=headers)\n",
    "data = json.loads(response.text)  # this contains all the articles data, feel free to check it out\n",
    "files = data[\"files\"]             # this is just the data about the files, which is what we want\n",
    "files"
   ]
  },
  {
   "cell_type": "code",
   "execution_count": 5,
   "metadata": {},
   "outputs": [
    {
     "name": "stdout",
     "output_type": "stream",
     "text": [
      "CPU times: user 3.41 s, sys: 5.82 s, total: 9.23 s\n",
      "Wall time: 4min 23s\n"
     ]
    }
   ],
   "source": [
    "%%time\n",
    "files_to_dl = [\"data.zip\"]  # feel free to add other files here\n",
    "for file in files:\n",
    "    if file[\"name\"] in files_to_dl:\n",
    "        os.makedirs(output_directory, exist_ok=True)\n",
    "        urlretrieve(file[\"download_url\"], output_directory + file[\"name\"])"
   ]
  },
  {
   "cell_type": "code",
   "execution_count": 7,
   "metadata": {},
   "outputs": [
    {
     "name": "stdout",
     "output_type": "stream",
     "text": [
      "CPU times: user 7.8 s, sys: 1.36 s, total: 9.16 s\n",
      "Wall time: 13 s\n"
     ]
    }
   ],
   "source": [
    "%%time\n",
    "with zipfile.ZipFile(os.path.join(output_directory, \"data.zip\"), 'r') as f:\n",
    "    f.extractall(output_directory)"
   ]
  },
  {
   "cell_type": "code",
   "execution_count": 8,
   "metadata": {},
   "outputs": [
    {
     "name": "stdout",
     "output_type": "stream",
     "text": [
      "total 12061784\n",
      "-rw-r--r--   1 Daniel  staff  814041183 Mar 27 15:01 data.zip\n",
      "-rw-r--r--   1 Daniel  staff   95376895 Mar 27 15:03 MPI-ESM-1-2-HAM_daily_rainfall_NSW.csv\n",
      "-rw-r--r--   1 Daniel  staff   94960113 Mar 27 15:03 AWI-ESM-1-1-LR_daily_rainfall_NSW.csv\n",
      "-rw-r--r--   1 Daniel  staff   82474546 Mar 27 15:03 NorESM2-LM_daily_rainfall_NSW.csv\n",
      "-rw-r--r--   1 Daniel  staff  127613760 Mar 27 15:03 ACCESS-CM2_daily_rainfall_NSW.csv\n",
      "-rw-r--r--   1 Daniel  staff  232118894 Mar 27 15:03 FGOALS-f3-L_daily_rainfall_NSW.csv\n",
      "-rw-r--r--   1 Daniel  staff  330360682 Mar 27 15:03 CMCC-CM2-HR4_daily_rainfall_NSW.csv\n",
      "-rw-r--r--   1 Daniel  staff  254009247 Mar 27 15:03 MRI-ESM2-0_daily_rainfall_NSW.csv\n",
      "-rw-r--r--   1 Daniel  staff  235661418 Mar 27 15:03 GFDL-CM4_daily_rainfall_NSW.csv\n",
      "-rw-r--r--   1 Daniel  staff  294260911 Mar 27 15:03 BCC-CSM2-MR_daily_rainfall_NSW.csv\n",
      "-rw-r--r--   1 Daniel  staff  295768615 Mar 27 15:03 EC-Earth3-Veg-LR_daily_rainfall_NSW.csv\n",
      "-rw-r--r--   1 Daniel  staff  328852379 Mar 27 15:03 CMCC-ESM2_daily_rainfall_NSW.csv\n",
      "-rw-r--r--   1 Daniel  staff   67784105 Mar 27 15:03 NESM3_daily_rainfall_NSW.csv\n",
      "-rw-r--r--   1 Daniel  staff   95640682 Mar 27 15:03 MPI-ESM1-2-LR_daily_rainfall_NSW.csv\n",
      "-rw-r--r--   1 Daniel  staff  114707410 Mar 27 15:03 ACCESS-ESM1-5_daily_rainfall_NSW.csv\n",
      "-rw-r--r--   1 Daniel  staff  116179272 Mar 27 15:03 FGOALS-g3_daily_rainfall_NSW.csv\n",
      "-rw-r--r--   1 Daniel  staff  102517965 Mar 27 15:03 INM-CM4-8_daily_rainfall_NSW.csv\n",
      "-rw-r--r--   1 Daniel  staff  515458033 Mar 27 15:03 MPI-ESM1-2-HR_daily_rainfall_NSW.csv\n",
      "-rw-r--r--   1 Daniel  staff  332813281 Mar 27 15:03 TaiESM1_daily_rainfall_NSW.csv\n",
      "-rw-r--r--   1 Daniel  staff  337555851 Mar 27 15:03 NorESM2-MM_daily_rainfall_NSW.csv\n",
      "-rw-r--r--   1 Daniel  staff  328787320 Mar 27 15:03 CMCC-CM2-SR5_daily_rainfall_NSW.csv\n",
      "-rw-r--r--   1 Daniel  staff     952202 Mar 27 15:03 observed_daily_rainfall_SYD.csv\n",
      "-rw-r--r--   1 Daniel  staff   93829697 Mar 27 15:03 KIOST-ESM_daily_rainfall_NSW.csv\n",
      "-rw-r--r--   1 Daniel  staff  102692289 Mar 27 15:03 INM-CM5-0_daily_rainfall_NSW.csv\n",
      "-rw-r--r--   1 Daniel  staff  206822938 Mar 27 15:03 MIROC6_daily_rainfall_NSW.csv\n",
      "-rw-r--r--   1 Daniel  staff   55224437 Mar 27 15:03 BCC-ESM1_daily_rainfall_NSW.csv\n",
      "-rw-r--r--   1 Daniel  staff  124586961 Mar 27 15:03 GFDL-ESM4_daily_rainfall_NSW.csv\n",
      "-rw-r--r--   1 Daniel  staff   46286371 Mar 27 15:03 CanESM5_daily_rainfall_NSW.csv\n",
      "-rw-r--r--   1 Daniel  staff  333489879 Mar 27 15:03 SAM0-UNICON_daily_rainfall_NSW.csv\n",
      "drwxr-xr-x  30 Daniel  staff        960 Mar 27 15:03 \u001b[1m\u001b[34m__MACOSX\u001b[m\u001b[m/\n"
     ]
    }
   ],
   "source": [
    "%ls -ltr figshare/"
   ]
  },
  {
   "cell_type": "code",
   "execution_count": 3,
   "metadata": {},
   "outputs": [
    {
     "name": "stdout",
     "output_type": "stream",
     "text": [
      "CPU times: user 11min 40s, sys: 1min 12s, total: 12min 52s\n",
      "Wall time: 17min 24s\n"
     ]
    }
   ],
   "source": [
    "%%time\n",
    "## here we are using a normal python way for merging the data \n",
    "fi mvnfbcdeles = glob.glob('figshare/*.csv')\n",
    "df = pd.concat((pd.read_csv(file).assign(model = re.findall(\"/([^_]*)\", file)[0]) for file in files))\n",
    "df.to_csv(\"figshare/combined_data.csv\")"
   ]
  },
  {
   "cell_type": "code",
   "execution_count": 32,
   "metadata": {},
   "outputs": [
    {
     "name": "stdout",
     "output_type": "stream",
     "text": [
      "CPU times: user 1.07 ms, sys: 2.51 ms, total: 3.58 ms\n",
      "Wall time: 5.53 ms\n"
     ]
    }
   ],
   "source": [
    "%%time\n",
    "reader = pd.read_csv(\"figshare/combined_data.csv\", chunksize=200000, iterator=True)"
   ]
  },
  {
   "cell_type": "code",
   "execution_count": 34,
   "metadata": {},
   "outputs": [
    {
     "name": "stdout",
     "output_type": "stream",
     "text": [
      "CPU times: user 135 ms, sys: 25.3 ms, total: 160 ms\n",
      "Wall time: 160 ms\n"
     ]
    }
   ],
   "source": [
    "%%time\n",
    "count = 1\n",
    "for chunk in reader:\n",
    "    first = chunk\n",
    "    if count == 1:\n",
    "        break"
   ]
  },
  {
   "cell_type": "code",
   "execution_count": 21,
   "metadata": {},
   "outputs": [
    {
     "data": {
      "text/html": [
       "<div>\n",
       "<style scoped>\n",
       "    .dataframe tbody tr th:only-of-type {\n",
       "        vertical-align: middle;\n",
       "    }\n",
       "\n",
       "    .dataframe tbody tr th {\n",
       "        vertical-align: top;\n",
       "    }\n",
       "\n",
       "    .dataframe thead th {\n",
       "        text-align: right;\n",
       "    }\n",
       "</style>\n",
       "<table border=\"1\" class=\"dataframe\">\n",
       "  <thead>\n",
       "    <tr style=\"text-align: right;\">\n",
       "      <th></th>\n",
       "      <th>time</th>\n",
       "      <th>lat_min</th>\n",
       "      <th>lat_max</th>\n",
       "      <th>lon_min</th>\n",
       "      <th>lon_max</th>\n",
       "      <th>rain (mm/day)</th>\n",
       "      <th>model</th>\n",
       "    </tr>\n",
       "  </thead>\n",
       "  <tbody>\n",
       "    <tr>\n",
       "      <th>0</th>\n",
       "      <td>1889-01-01 12:00:00</td>\n",
       "      <td>-35.439867</td>\n",
       "      <td>-33.574619</td>\n",
       "      <td>141.5625</td>\n",
       "      <td>143.4375</td>\n",
       "      <td>4.244226e-13</td>\n",
       "      <td>MPI-ESM-1-2-HAM</td>\n",
       "    </tr>\n",
       "    <tr>\n",
       "      <th>1</th>\n",
       "      <td>1889-01-02 12:00:00</td>\n",
       "      <td>-35.439867</td>\n",
       "      <td>-33.574619</td>\n",
       "      <td>141.5625</td>\n",
       "      <td>143.4375</td>\n",
       "      <td>4.217326e-13</td>\n",
       "      <td>MPI-ESM-1-2-HAM</td>\n",
       "    </tr>\n",
       "    <tr>\n",
       "      <th>2</th>\n",
       "      <td>1889-01-03 12:00:00</td>\n",
       "      <td>-35.439867</td>\n",
       "      <td>-33.574619</td>\n",
       "      <td>141.5625</td>\n",
       "      <td>143.4375</td>\n",
       "      <td>4.498125e-13</td>\n",
       "      <td>MPI-ESM-1-2-HAM</td>\n",
       "    </tr>\n",
       "    <tr>\n",
       "      <th>3</th>\n",
       "      <td>1889-01-04 12:00:00</td>\n",
       "      <td>-35.439867</td>\n",
       "      <td>-33.574619</td>\n",
       "      <td>141.5625</td>\n",
       "      <td>143.4375</td>\n",
       "      <td>4.251282e-13</td>\n",
       "      <td>MPI-ESM-1-2-HAM</td>\n",
       "    </tr>\n",
       "    <tr>\n",
       "      <th>4</th>\n",
       "      <td>1889-01-05 12:00:00</td>\n",
       "      <td>-35.439867</td>\n",
       "      <td>-33.574619</td>\n",
       "      <td>141.5625</td>\n",
       "      <td>143.4375</td>\n",
       "      <td>4.270161e-13</td>\n",
       "      <td>MPI-ESM-1-2-HAM</td>\n",
       "    </tr>\n",
       "    <tr>\n",
       "      <th>...</th>\n",
       "      <td>...</td>\n",
       "      <td>...</td>\n",
       "      <td>...</td>\n",
       "      <td>...</td>\n",
       "      <td>...</td>\n",
       "      <td>...</td>\n",
       "      <td>...</td>\n",
       "    </tr>\n",
       "    <tr>\n",
       "      <th>199995</th>\n",
       "      <td>1932-07-30 12:00:00</td>\n",
       "      <td>-35.439867</td>\n",
       "      <td>-33.574619</td>\n",
       "      <td>149.0625</td>\n",
       "      <td>150.9375</td>\n",
       "      <td>5.270541e-03</td>\n",
       "      <td>MPI-ESM-1-2-HAM</td>\n",
       "    </tr>\n",
       "    <tr>\n",
       "      <th>199996</th>\n",
       "      <td>1932-07-31 12:00:00</td>\n",
       "      <td>-35.439867</td>\n",
       "      <td>-33.574619</td>\n",
       "      <td>149.0625</td>\n",
       "      <td>150.9375</td>\n",
       "      <td>4.526228e-05</td>\n",
       "      <td>MPI-ESM-1-2-HAM</td>\n",
       "    </tr>\n",
       "    <tr>\n",
       "      <th>199997</th>\n",
       "      <td>1932-08-01 12:00:00</td>\n",
       "      <td>-35.439867</td>\n",
       "      <td>-33.574619</td>\n",
       "      <td>149.0625</td>\n",
       "      <td>150.9375</td>\n",
       "      <td>3.739194e-13</td>\n",
       "      <td>MPI-ESM-1-2-HAM</td>\n",
       "    </tr>\n",
       "    <tr>\n",
       "      <th>199998</th>\n",
       "      <td>1932-08-02 12:00:00</td>\n",
       "      <td>-35.439867</td>\n",
       "      <td>-33.574619</td>\n",
       "      <td>149.0625</td>\n",
       "      <td>150.9375</td>\n",
       "      <td>3.733396e-13</td>\n",
       "      <td>MPI-ESM-1-2-HAM</td>\n",
       "    </tr>\n",
       "    <tr>\n",
       "      <th>199999</th>\n",
       "      <td>1932-08-03 12:00:00</td>\n",
       "      <td>-35.439867</td>\n",
       "      <td>-33.574619</td>\n",
       "      <td>149.0625</td>\n",
       "      <td>150.9375</td>\n",
       "      <td>3.730555e-13</td>\n",
       "      <td>MPI-ESM-1-2-HAM</td>\n",
       "    </tr>\n",
       "  </tbody>\n",
       "</table>\n",
       "<p>200000 rows × 7 columns</p>\n",
       "</div>"
      ],
      "text/plain": [
       "                       time    lat_min    lat_max   lon_min   lon_max  \\\n",
       "0       1889-01-01 12:00:00 -35.439867 -33.574619  141.5625  143.4375   \n",
       "1       1889-01-02 12:00:00 -35.439867 -33.574619  141.5625  143.4375   \n",
       "2       1889-01-03 12:00:00 -35.439867 -33.574619  141.5625  143.4375   \n",
       "3       1889-01-04 12:00:00 -35.439867 -33.574619  141.5625  143.4375   \n",
       "4       1889-01-05 12:00:00 -35.439867 -33.574619  141.5625  143.4375   \n",
       "...                     ...        ...        ...       ...       ...   \n",
       "199995  1932-07-30 12:00:00 -35.439867 -33.574619  149.0625  150.9375   \n",
       "199996  1932-07-31 12:00:00 -35.439867 -33.574619  149.0625  150.9375   \n",
       "199997  1932-08-01 12:00:00 -35.439867 -33.574619  149.0625  150.9375   \n",
       "199998  1932-08-02 12:00:00 -35.439867 -33.574619  149.0625  150.9375   \n",
       "199999  1932-08-03 12:00:00 -35.439867 -33.574619  149.0625  150.9375   \n",
       "\n",
       "        rain (mm/day)            model  \n",
       "0        4.244226e-13  MPI-ESM-1-2-HAM  \n",
       "1        4.217326e-13  MPI-ESM-1-2-HAM  \n",
       "2        4.498125e-13  MPI-ESM-1-2-HAM  \n",
       "3        4.251282e-13  MPI-ESM-1-2-HAM  \n",
       "4        4.270161e-13  MPI-ESM-1-2-HAM  \n",
       "...               ...              ...  \n",
       "199995   5.270541e-03  MPI-ESM-1-2-HAM  \n",
       "199996   4.526228e-05  MPI-ESM-1-2-HAM  \n",
       "199997   3.739194e-13  MPI-ESM-1-2-HAM  \n",
       "199998   3.733396e-13  MPI-ESM-1-2-HAM  \n",
       "199999   3.730555e-13  MPI-ESM-1-2-HAM  \n",
       "\n",
       "[200000 rows x 7 columns]"
      ]
     },
     "execution_count": 21,
     "metadata": {},
     "output_type": "execute_result"
    }
   ],
   "source": [
    "#only use the column we want \n",
    "df = first.loc[:,'time':'model']\n",
    "df"
   ]
  },
  {
   "cell_type": "code",
   "execution_count": 24,
   "metadata": {},
   "outputs": [
    {
     "name": "stdout",
     "output_type": "stream",
     "text": [
      "<class 'pandas.core.frame.DataFrame'>\n",
      "RangeIndex: 200000 entries, 16000000 to 16199999\n",
      "Data columns (total 7 columns):\n",
      " #   Column         Non-Null Count   Dtype  \n",
      "---  ------         --------------   -----  \n",
      " 0   time           200000 non-null  object \n",
      " 1   lat_min        200000 non-null  float64\n",
      " 2   lat_max        200000 non-null  float64\n",
      " 3   lon_min        200000 non-null  float64\n",
      " 4   lon_max        200000 non-null  float64\n",
      " 5   rain (mm/day)  200000 non-null  float64\n",
      " 6   model          200000 non-null  object \n",
      "dtypes: float64(5), object(2)\n",
      "memory usage: 10.7+ MB\n"
     ]
    }
   ],
   "source": [
    "df.info()"
   ]
  },
  {
   "cell_type": "code",
   "execution_count": 25,
   "metadata": {},
   "outputs": [
    {
     "data": {
      "text/html": [
       "<div>\n",
       "<style scoped>\n",
       "    .dataframe tbody tr th:only-of-type {\n",
       "        vertical-align: middle;\n",
       "    }\n",
       "\n",
       "    .dataframe tbody tr th {\n",
       "        vertical-align: top;\n",
       "    }\n",
       "\n",
       "    .dataframe thead th {\n",
       "        text-align: right;\n",
       "    }\n",
       "</style>\n",
       "<table border=\"1\" class=\"dataframe\">\n",
       "  <thead>\n",
       "    <tr style=\"text-align: right;\">\n",
       "      <th></th>\n",
       "      <th>time</th>\n",
       "      <th>lat_min</th>\n",
       "      <th>lat_max</th>\n",
       "      <th>lon_min</th>\n",
       "      <th>lon_max</th>\n",
       "      <th>rain (mm/day)</th>\n",
       "      <th>model</th>\n",
       "    </tr>\n",
       "  </thead>\n",
       "  <tbody>\n",
       "    <tr>\n",
       "      <th>16000000</th>\n",
       "      <td>1990-04-16 12:00:00</td>\n",
       "      <td>-33.0</td>\n",
       "      <td>-32.0</td>\n",
       "      <td>141.25</td>\n",
       "      <td>142.50</td>\n",
       "      <td>1.767978e+00</td>\n",
       "      <td>GFDL-CM4</td>\n",
       "    </tr>\n",
       "    <tr>\n",
       "      <th>16000001</th>\n",
       "      <td>1990-04-17 12:00:00</td>\n",
       "      <td>-33.0</td>\n",
       "      <td>-32.0</td>\n",
       "      <td>141.25</td>\n",
       "      <td>142.50</td>\n",
       "      <td>5.015442e-02</td>\n",
       "      <td>GFDL-CM4</td>\n",
       "    </tr>\n",
       "    <tr>\n",
       "      <th>16000002</th>\n",
       "      <td>1990-04-18 12:00:00</td>\n",
       "      <td>-33.0</td>\n",
       "      <td>-32.0</td>\n",
       "      <td>141.25</td>\n",
       "      <td>142.50</td>\n",
       "      <td>1.498011e-03</td>\n",
       "      <td>GFDL-CM4</td>\n",
       "    </tr>\n",
       "    <tr>\n",
       "      <th>16000003</th>\n",
       "      <td>1990-04-19 12:00:00</td>\n",
       "      <td>-33.0</td>\n",
       "      <td>-32.0</td>\n",
       "      <td>141.25</td>\n",
       "      <td>142.50</td>\n",
       "      <td>1.734715e-04</td>\n",
       "      <td>GFDL-CM4</td>\n",
       "    </tr>\n",
       "    <tr>\n",
       "      <th>16000004</th>\n",
       "      <td>1990-04-20 12:00:00</td>\n",
       "      <td>-33.0</td>\n",
       "      <td>-32.0</td>\n",
       "      <td>141.25</td>\n",
       "      <td>142.50</td>\n",
       "      <td>7.554321e-07</td>\n",
       "      <td>GFDL-CM4</td>\n",
       "    </tr>\n",
       "    <tr>\n",
       "      <th>...</th>\n",
       "      <td>...</td>\n",
       "      <td>...</td>\n",
       "      <td>...</td>\n",
       "      <td>...</td>\n",
       "      <td>...</td>\n",
       "      <td>...</td>\n",
       "      <td>...</td>\n",
       "    </tr>\n",
       "    <tr>\n",
       "      <th>16199995</th>\n",
       "      <td>1908-03-22 12:00:00</td>\n",
       "      <td>-33.0</td>\n",
       "      <td>-32.0</td>\n",
       "      <td>147.50</td>\n",
       "      <td>148.75</td>\n",
       "      <td>5.901611e-03</td>\n",
       "      <td>GFDL-CM4</td>\n",
       "    </tr>\n",
       "    <tr>\n",
       "      <th>16199996</th>\n",
       "      <td>1908-03-23 12:00:00</td>\n",
       "      <td>-33.0</td>\n",
       "      <td>-32.0</td>\n",
       "      <td>147.50</td>\n",
       "      <td>148.75</td>\n",
       "      <td>2.977784e-02</td>\n",
       "      <td>GFDL-CM4</td>\n",
       "    </tr>\n",
       "    <tr>\n",
       "      <th>16199997</th>\n",
       "      <td>1908-03-24 12:00:00</td>\n",
       "      <td>-33.0</td>\n",
       "      <td>-32.0</td>\n",
       "      <td>147.50</td>\n",
       "      <td>148.75</td>\n",
       "      <td>4.116147e-01</td>\n",
       "      <td>GFDL-CM4</td>\n",
       "    </tr>\n",
       "    <tr>\n",
       "      <th>16199998</th>\n",
       "      <td>1908-03-25 12:00:00</td>\n",
       "      <td>-33.0</td>\n",
       "      <td>-32.0</td>\n",
       "      <td>147.50</td>\n",
       "      <td>148.75</td>\n",
       "      <td>1.937477e-03</td>\n",
       "      <td>GFDL-CM4</td>\n",
       "    </tr>\n",
       "    <tr>\n",
       "      <th>16199999</th>\n",
       "      <td>1908-03-26 12:00:00</td>\n",
       "      <td>-33.0</td>\n",
       "      <td>-32.0</td>\n",
       "      <td>147.50</td>\n",
       "      <td>148.75</td>\n",
       "      <td>6.669271e-05</td>\n",
       "      <td>GFDL-CM4</td>\n",
       "    </tr>\n",
       "  </tbody>\n",
       "</table>\n",
       "<p>200000 rows × 7 columns</p>\n",
       "</div>"
      ],
      "text/plain": [
       "                        time  lat_min  lat_max  lon_min  lon_max  \\\n",
       "16000000 1990-04-16 12:00:00    -33.0    -32.0   141.25   142.50   \n",
       "16000001 1990-04-17 12:00:00    -33.0    -32.0   141.25   142.50   \n",
       "16000002 1990-04-18 12:00:00    -33.0    -32.0   141.25   142.50   \n",
       "16000003 1990-04-19 12:00:00    -33.0    -32.0   141.25   142.50   \n",
       "16000004 1990-04-20 12:00:00    -33.0    -32.0   141.25   142.50   \n",
       "...                      ...      ...      ...      ...      ...   \n",
       "16199995 1908-03-22 12:00:00    -33.0    -32.0   147.50   148.75   \n",
       "16199996 1908-03-23 12:00:00    -33.0    -32.0   147.50   148.75   \n",
       "16199997 1908-03-24 12:00:00    -33.0    -32.0   147.50   148.75   \n",
       "16199998 1908-03-25 12:00:00    -33.0    -32.0   147.50   148.75   \n",
       "16199999 1908-03-26 12:00:00    -33.0    -32.0   147.50   148.75   \n",
       "\n",
       "          rain (mm/day)     model  \n",
       "16000000   1.767978e+00  GFDL-CM4  \n",
       "16000001   5.015442e-02  GFDL-CM4  \n",
       "16000002   1.498011e-03  GFDL-CM4  \n",
       "16000003   1.734715e-04  GFDL-CM4  \n",
       "16000004   7.554321e-07  GFDL-CM4  \n",
       "...                 ...       ...  \n",
       "16199995   5.901611e-03  GFDL-CM4  \n",
       "16199996   2.977784e-02  GFDL-CM4  \n",
       "16199997   4.116147e-01  GFDL-CM4  \n",
       "16199998   1.937477e-03  GFDL-CM4  \n",
       "16199999   6.669271e-05  GFDL-CM4  \n",
       "\n",
       "[200000 rows x 7 columns]"
      ]
     },
     "execution_count": 25,
     "metadata": {},
     "output_type": "execute_result"
    }
   ],
   "source": [
    "#change the time to date type\n",
    "df['time'] = pd.to_datetime(df['time'])\n",
    "df\n"
   ]
  },
  {
   "cell_type": "code",
   "execution_count": 29,
   "metadata": {},
   "outputs": [
    {
     "name": "stdout",
     "output_type": "stream",
     "text": [
      "<class 'pandas.core.frame.DataFrame'>\n",
      "RangeIndex: 200000 entries, 16000000 to 16199999\n",
      "Data columns (total 7 columns):\n",
      " #   Column         Non-Null Count   Dtype         \n",
      "---  ------         --------------   -----         \n",
      " 0   time           200000 non-null  datetime64[ns]\n",
      " 1   lat_min        200000 non-null  float64       \n",
      " 2   lat_max        200000 non-null  float64       \n",
      " 3   lon_min        200000 non-null  float64       \n",
      " 4   lon_max        200000 non-null  float64       \n",
      " 5   rain (mm/day)  200000 non-null  float64       \n",
      " 6   model          200000 non-null  object        \n",
      "dtypes: datetime64[ns](1), float64(5), object(1)\n",
      "memory usage: 10.7+ MB\n",
      "CPU times: user 19.1 ms, sys: 11.5 ms, total: 30.6 ms\n",
      "Wall time: 44.1 ms\n"
     ]
    }
   ],
   "source": [
    "%%time\n",
    "df.info()"
   ]
  },
  {
   "cell_type": "code",
   "execution_count": 30,
   "metadata": {},
   "outputs": [
    {
     "name": "stdout",
     "output_type": "stream",
     "text": [
      "CPU times: user 27.6 ms, sys: 4.24 ms, total: 31.9 ms\n",
      "Wall time: 30.8 ms\n"
     ]
    },
    {
     "data": {
      "text/html": [
       "<div>\n",
       "<style scoped>\n",
       "    .dataframe tbody tr th:only-of-type {\n",
       "        vertical-align: middle;\n",
       "    }\n",
       "\n",
       "    .dataframe tbody tr th {\n",
       "        vertical-align: top;\n",
       "    }\n",
       "\n",
       "    .dataframe thead th {\n",
       "        text-align: right;\n",
       "    }\n",
       "</style>\n",
       "<table border=\"1\" class=\"dataframe\">\n",
       "  <thead>\n",
       "    <tr style=\"text-align: right;\">\n",
       "      <th></th>\n",
       "      <th>lat_min</th>\n",
       "      <th>lat_max</th>\n",
       "      <th>lon_min</th>\n",
       "      <th>lon_max</th>\n",
       "      <th>rain (mm/day)</th>\n",
       "    </tr>\n",
       "  </thead>\n",
       "  <tbody>\n",
       "    <tr>\n",
       "      <th>count</th>\n",
       "      <td>200000.0</td>\n",
       "      <td>200000.0</td>\n",
       "      <td>200000.000000</td>\n",
       "      <td>200000.000000</td>\n",
       "      <td>200000.000000</td>\n",
       "    </tr>\n",
       "    <tr>\n",
       "      <th>mean</th>\n",
       "      <td>-33.0</td>\n",
       "      <td>-32.0</td>\n",
       "      <td>144.343750</td>\n",
       "      <td>145.593750</td>\n",
       "      <td>0.909122</td>\n",
       "    </tr>\n",
       "    <tr>\n",
       "      <th>std</th>\n",
       "      <td>0.0</td>\n",
       "      <td>0.0</td>\n",
       "      <td>1.605841</td>\n",
       "      <td>1.605841</td>\n",
       "      <td>3.994768</td>\n",
       "    </tr>\n",
       "    <tr>\n",
       "      <th>min</th>\n",
       "      <td>-33.0</td>\n",
       "      <td>-32.0</td>\n",
       "      <td>141.250000</td>\n",
       "      <td>142.500000</td>\n",
       "      <td>0.000000</td>\n",
       "    </tr>\n",
       "    <tr>\n",
       "      <th>25%</th>\n",
       "      <td>-33.0</td>\n",
       "      <td>-32.0</td>\n",
       "      <td>142.500000</td>\n",
       "      <td>143.750000</td>\n",
       "      <td>0.000006</td>\n",
       "    </tr>\n",
       "    <tr>\n",
       "      <th>50%</th>\n",
       "      <td>-33.0</td>\n",
       "      <td>-32.0</td>\n",
       "      <td>143.750000</td>\n",
       "      <td>145.000000</td>\n",
       "      <td>0.001748</td>\n",
       "    </tr>\n",
       "    <tr>\n",
       "      <th>75%</th>\n",
       "      <td>-33.0</td>\n",
       "      <td>-32.0</td>\n",
       "      <td>146.250000</td>\n",
       "      <td>147.500000</td>\n",
       "      <td>0.107104</td>\n",
       "    </tr>\n",
       "    <tr>\n",
       "      <th>max</th>\n",
       "      <td>-33.0</td>\n",
       "      <td>-32.0</td>\n",
       "      <td>147.500000</td>\n",
       "      <td>148.750000</td>\n",
       "      <td>159.199368</td>\n",
       "    </tr>\n",
       "  </tbody>\n",
       "</table>\n",
       "</div>"
      ],
      "text/plain": [
       "        lat_min   lat_max        lon_min        lon_max  rain (mm/day)\n",
       "count  200000.0  200000.0  200000.000000  200000.000000  200000.000000\n",
       "mean      -33.0     -32.0     144.343750     145.593750       0.909122\n",
       "std         0.0       0.0       1.605841       1.605841       3.994768\n",
       "min       -33.0     -32.0     141.250000     142.500000       0.000000\n",
       "25%       -33.0     -32.0     142.500000     143.750000       0.000006\n",
       "50%       -33.0     -32.0     143.750000     145.000000       0.001748\n",
       "75%       -33.0     -32.0     146.250000     147.500000       0.107104\n",
       "max       -33.0     -32.0     147.500000     148.750000     159.199368"
      ]
     },
     "execution_count": 30,
     "metadata": {},
     "output_type": "execute_result"
    }
   ],
   "source": [
    "%%time\n",
    "df.describe()"
   ]
  },
  {
   "cell_type": "code",
   "execution_count": 31,
   "metadata": {},
   "outputs": [
    {
     "name": "stdout",
     "output_type": "stream",
     "text": [
      "CPU times: user 11.2 ms, sys: 3.13 ms, total: 14.3 ms\n",
      "Wall time: 14 ms\n"
     ]
    },
    {
     "name": "stderr",
     "output_type": "stream",
     "text": [
      "<timed eval>:1: FutureWarning: The default value of numeric_only in DataFrame.corr is deprecated. In a future version, it will default to False. Select only valid columns or specify the value of numeric_only to silence this warning.\n"
     ]
    },
    {
     "data": {
      "text/html": [
       "<div>\n",
       "<style scoped>\n",
       "    .dataframe tbody tr th:only-of-type {\n",
       "        vertical-align: middle;\n",
       "    }\n",
       "\n",
       "    .dataframe tbody tr th {\n",
       "        vertical-align: top;\n",
       "    }\n",
       "\n",
       "    .dataframe thead th {\n",
       "        text-align: right;\n",
       "    }\n",
       "</style>\n",
       "<table border=\"1\" class=\"dataframe\">\n",
       "  <thead>\n",
       "    <tr style=\"text-align: right;\">\n",
       "      <th></th>\n",
       "      <th>lat_min</th>\n",
       "      <th>lat_max</th>\n",
       "      <th>lon_min</th>\n",
       "      <th>lon_max</th>\n",
       "      <th>rain (mm/day)</th>\n",
       "    </tr>\n",
       "  </thead>\n",
       "  <tbody>\n",
       "    <tr>\n",
       "      <th>lat_min</th>\n",
       "      <td>NaN</td>\n",
       "      <td>NaN</td>\n",
       "      <td>NaN</td>\n",
       "      <td>NaN</td>\n",
       "      <td>NaN</td>\n",
       "    </tr>\n",
       "    <tr>\n",
       "      <th>lat_max</th>\n",
       "      <td>NaN</td>\n",
       "      <td>NaN</td>\n",
       "      <td>NaN</td>\n",
       "      <td>NaN</td>\n",
       "      <td>NaN</td>\n",
       "    </tr>\n",
       "    <tr>\n",
       "      <th>lon_min</th>\n",
       "      <td>NaN</td>\n",
       "      <td>NaN</td>\n",
       "      <td>1.000000</td>\n",
       "      <td>1.000000</td>\n",
       "      <td>0.043832</td>\n",
       "    </tr>\n",
       "    <tr>\n",
       "      <th>lon_max</th>\n",
       "      <td>NaN</td>\n",
       "      <td>NaN</td>\n",
       "      <td>1.000000</td>\n",
       "      <td>1.000000</td>\n",
       "      <td>0.043832</td>\n",
       "    </tr>\n",
       "    <tr>\n",
       "      <th>rain (mm/day)</th>\n",
       "      <td>NaN</td>\n",
       "      <td>NaN</td>\n",
       "      <td>0.043832</td>\n",
       "      <td>0.043832</td>\n",
       "      <td>1.000000</td>\n",
       "    </tr>\n",
       "  </tbody>\n",
       "</table>\n",
       "</div>"
      ],
      "text/plain": [
       "               lat_min  lat_max   lon_min   lon_max  rain (mm/day)\n",
       "lat_min            NaN      NaN       NaN       NaN            NaN\n",
       "lat_max            NaN      NaN       NaN       NaN            NaN\n",
       "lon_min            NaN      NaN  1.000000  1.000000       0.043832\n",
       "lon_max            NaN      NaN  1.000000  1.000000       0.043832\n",
       "rain (mm/day)      NaN      NaN  0.043832  0.043832       1.000000"
      ]
     },
     "execution_count": 31,
     "metadata": {},
     "output_type": "execute_result"
    }
   ],
   "source": [
    "%%time\n",
    "df.corr()"
   ]
  },
  {
   "cell_type": "code",
   "execution_count": 15,
   "metadata": {},
   "outputs": [
    {
     "name": "stdout",
     "output_type": "stream",
     "text": [
      "The rpy2.ipython extension is already loaded. To reload it, use:\n",
      "  %reload_ext rpy2.ipython\n"
     ]
    }
   ],
   "source": [
    "%load_ext rpy2.ipython"
   ]
  },
  {
   "cell_type": "code",
   "execution_count": 17,
   "metadata": {},
   "outputs": [
    {
     "name": "stdout",
     "output_type": "stream",
     "text": [
      "            model     n\n",
      "1 MPI-ESM-1-2-HAM 20000\n",
      "Time difference of 1.410235 secs\n",
      "CPU times: user 547 ms, sys: 53.1 ms, total: 600 ms\n",
      "Wall time: 1.59 s\n"
     ]
    }
   ],
   "source": [
    "%%time\n",
    "%%R -i df\n",
    "start_time <- Sys.time()\n",
    "suppressMessages(library(dplyr))\n",
    "result <- df %>% count(model)\n",
    "print(result)\n",
    "end_time <- Sys.time()\n",
    "print(end_time - start_time)"
   ]
  },
  {
   "attachments": {},
   "cell_type": "markdown",
   "metadata": {},
   "source": [
    "The reason why I choosed pandas exchange is that it is really easy to use and understand."
   ]
  },
  {
   "cell_type": "code",
   "execution_count": null,
   "metadata": {},
   "outputs": [],
   "source": []
  }
 ],
 "metadata": {
  "kernelspec": {
   "display_name": "525_2023",
   "language": "python",
   "name": "python3"
  },
  "language_info": {
   "codemirror_mode": {
    "name": "ipython",
    "version": 3
   },
   "file_extension": ".py",
   "mimetype": "text/x-python",
   "name": "python",
   "nbconvert_exporter": "python",
   "pygments_lexer": "ipython3",
   "version": "3.10.10"
  },
  "orig_nbformat": 4
 },
 "nbformat": 4,
 "nbformat_minor": 2
}
