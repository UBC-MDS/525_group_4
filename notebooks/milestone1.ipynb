{
 "cells": [
  {
   "attachments": {},
   "cell_type": "markdown",
   "id": "69c77b12-743e-4ac4-afda-ae3f7588e04b",
   "metadata": {},
   "source": [
    "# Milestone 1\n",
    "Group 4: Mengjun Chen, Qurat-ul-Ain Azim, Ashwin Babu, Mohammad Reza Nabizadeh\n",
    "## 1. Team-work contract\n",
    "- Link to the team work contract:\n",
    "https://docs.google.com/document/d/1FKmLnss40QeTBvXecWfMuavG4hm0lxKGkV9BtIFVIS8/edit\n",
    "## 2. Creating a repository and project structure\n",
    "- Link to the repository\n",
    "https://github.com/UBC-MDS/525_group_4"
   ]
  },
  {
   "cell_type": "markdown",
   "id": "e34eab70-efb0-431b-94ce-545e1855cdfa",
   "metadata": {},
   "source": [
    "## 3. Downloading the data"
   ]
  },
  {
   "cell_type": "code",
   "execution_count": 1,
   "id": "1fc550d6-8978-4a32-a7aa-6480f79bf795",
   "metadata": {
    "tags": []
   },
   "outputs": [],
   "source": [
    "import re\n",
    "import os\n",
    "import glob\n",
    "import zipfile\n",
    "import requests\n",
    "from urllib.request import urlretrieve\n",
    "import json\n",
    "import pandas as pd"
   ]
  },
  {
   "cell_type": "code",
   "execution_count": 2,
   "id": "3f1fb634-4299-4ffd-bacb-e35f39bb86a6",
   "metadata": {},
   "outputs": [
    {
     "name": "stdout",
     "output_type": "stream",
     "text": [
      "/Users/mrnabiz/Desktop/MDS/525/525_group_4\n"
     ]
    }
   ],
   "source": [
    "%cd ~/Desktop/MDS/525/525_group_4"
   ]
  },
  {
   "cell_type": "code",
   "execution_count": 3,
   "id": "b88b20b2-22c5-4c36-9b3d-a818cb56aaab",
   "metadata": {},
   "outputs": [],
   "source": [
    "article_id = 14096681\n",
    "url = f\"https://api.figshare.com/v2/articles/{article_id}\"\n",
    "headers = {\"Content-Type\": \"application/json\"}\n",
    "output_directory = \"figshare/\""
   ]
  },
  {
   "cell_type": "code",
   "execution_count": 4,
   "id": "736244eb-82ee-4a34-8a46-6fb6ff75533f",
   "metadata": {},
   "outputs": [
    {
     "data": {
      "text/plain": [
       "[{'id': 26579150,\n",
       "  'name': 'daily_rainfall_2014.png',\n",
       "  'size': 58863,\n",
       "  'is_link_only': False,\n",
       "  'download_url': 'https://ndownloader.figshare.com/files/26579150',\n",
       "  'supplied_md5': 'fd32a2ffde300a31f8d63b1825d47e5e',\n",
       "  'computed_md5': 'fd32a2ffde300a31f8d63b1825d47e5e'},\n",
       " {'id': 26579171,\n",
       "  'name': 'environment.yml',\n",
       "  'size': 192,\n",
       "  'is_link_only': False,\n",
       "  'download_url': 'https://ndownloader.figshare.com/files/26579171',\n",
       "  'supplied_md5': '060b2020017eed93a1ee7dd8c65b2f34',\n",
       "  'computed_md5': '060b2020017eed93a1ee7dd8c65b2f34'},\n",
       " {'id': 26586554,\n",
       "  'name': 'README.md',\n",
       "  'size': 5422,\n",
       "  'is_link_only': False,\n",
       "  'download_url': 'https://ndownloader.figshare.com/files/26586554',\n",
       "  'supplied_md5': '61858c6cc0e6a6d6663a7e4c75bbd88c',\n",
       "  'computed_md5': '61858c6cc0e6a6d6663a7e4c75bbd88c'},\n",
       " {'id': 26766812,\n",
       "  'name': 'data.zip',\n",
       "  'size': 814041183,\n",
       "  'is_link_only': False,\n",
       "  'download_url': 'https://ndownloader.figshare.com/files/26766812',\n",
       "  'supplied_md5': 'b517383f76e77bd03755a63a8ff83ee9',\n",
       "  'computed_md5': 'b517383f76e77bd03755a63a8ff83ee9'},\n",
       " {'id': 26766815,\n",
       "  'name': 'get_data.py',\n",
       "  'size': 4113,\n",
       "  'is_link_only': False,\n",
       "  'download_url': 'https://ndownloader.figshare.com/files/26766815',\n",
       "  'supplied_md5': '7829028495fd9dec9680ea013474afa6',\n",
       "  'computed_md5': '7829028495fd9dec9680ea013474afa6'}]"
      ]
     },
     "execution_count": 4,
     "metadata": {},
     "output_type": "execute_result"
    }
   ],
   "source": [
    "response = requests.request(\"GET\", url, headers=headers)\n",
    "data = json.loads(response.text) \n",
    "files = data[\"files\"]\n",
    "files"
   ]
  },
  {
   "cell_type": "code",
   "execution_count": 5,
   "id": "5c6cbdc1-a703-441e-a942-9b308d0631f8",
   "metadata": {},
   "outputs": [
    {
     "name": "stdout",
     "output_type": "stream",
     "text": [
      "CPU times: user 1.62 s, sys: 1.82 s, total: 3.44 s\n",
      "Wall time: 43.2 s\n"
     ]
    }
   ],
   "source": [
    "%%time\n",
    "files_to_dl = [\"data.zip\"]\n",
    "for file in files:\n",
    "    if file[\"name\"] in files_to_dl:\n",
    "        os.makedirs(output_directory, exist_ok=True)\n",
    "        urlretrieve(file[\"download_url\"], output_directory + file[\"name\"])"
   ]
  },
  {
   "cell_type": "code",
   "execution_count": 6,
   "id": "ab03498d-900c-4fd3-ba13-e54f376bda34",
   "metadata": {},
   "outputs": [
    {
     "name": "stdout",
     "output_type": "stream",
     "text": [
      "CPU times: user 12.7 s, sys: 1.61 s, total: 14.3 s\n",
      "Wall time: 15.2 s\n"
     ]
    }
   ],
   "source": [
    "%%time\n",
    "with zipfile.ZipFile(os.path.join(output_directory, \"data.zip\"), 'r') as f:\n",
    "    f.extractall(output_directory)"
   ]
  },
  {
   "cell_type": "code",
   "execution_count": 8,
   "id": "d43677b7-07e7-4de9-b278-9a2ab3164496",
   "metadata": {},
   "outputs": [
    {
     "name": "stdout",
     "output_type": "stream",
     "text": [
      "total 12086184\n",
      "-rw-r--r--   1 mrnabiz  staff  814041183 Apr  1 09:02 data.zip\n",
      "-rw-r--r--   1 mrnabiz  staff   95376895 Apr  1 09:02 MPI-ESM-1-2-HAM_daily_rainfall_NSW.csv\n",
      "-rw-r--r--   1 mrnabiz  staff   94960113 Apr  1 09:02 AWI-ESM-1-1-LR_daily_rainfall_NSW.csv\n",
      "-rw-r--r--   1 mrnabiz  staff   82474546 Apr  1 09:02 NorESM2-LM_daily_rainfall_NSW.csv\n",
      "-rw-r--r--   1 mrnabiz  staff  127613760 Apr  1 09:02 ACCESS-CM2_daily_rainfall_NSW.csv\n",
      "-rw-r--r--   1 mrnabiz  staff  232118894 Apr  1 09:02 FGOALS-f3-L_daily_rainfall_NSW.csv\n",
      "-rw-r--r--   1 mrnabiz  staff  330360682 Apr  1 09:02 CMCC-CM2-HR4_daily_rainfall_NSW.csv\n",
      "-rw-r--r--   1 mrnabiz  staff  254009247 Apr  1 09:02 MRI-ESM2-0_daily_rainfall_NSW.csv\n",
      "-rw-r--r--   1 mrnabiz  staff  235661418 Apr  1 09:02 GFDL-CM4_daily_rainfall_NSW.csv\n",
      "-rw-r--r--   1 mrnabiz  staff  294260911 Apr  1 09:02 BCC-CSM2-MR_daily_rainfall_NSW.csv\n",
      "-rw-r--r--   1 mrnabiz  staff  295768615 Apr  1 09:02 EC-Earth3-Veg-LR_daily_rainfall_NSW.csv\n",
      "-rw-r--r--   1 mrnabiz  staff  328852379 Apr  1 09:02 CMCC-ESM2_daily_rainfall_NSW.csv\n",
      "-rw-r--r--   1 mrnabiz  staff   67784105 Apr  1 09:02 NESM3_daily_rainfall_NSW.csv\n",
      "-rw-r--r--   1 mrnabiz  staff   95640682 Apr  1 09:02 MPI-ESM1-2-LR_daily_rainfall_NSW.csv\n",
      "-rw-r--r--   1 mrnabiz  staff  114707410 Apr  1 09:02 ACCESS-ESM1-5_daily_rainfall_NSW.csv\n",
      "-rw-r--r--   1 mrnabiz  staff  116179272 Apr  1 09:02 FGOALS-g3_daily_rainfall_NSW.csv\n",
      "-rw-r--r--   1 mrnabiz  staff  102517965 Apr  1 09:02 INM-CM4-8_daily_rainfall_NSW.csv\n",
      "-rw-r--r--   1 mrnabiz  staff  515458033 Apr  1 09:02 MPI-ESM1-2-HR_daily_rainfall_NSW.csv\n",
      "-rw-r--r--   1 mrnabiz  staff  332813281 Apr  1 09:02 TaiESM1_daily_rainfall_NSW.csv\n",
      "-rw-r--r--   1 mrnabiz  staff  337555851 Apr  1 09:02 NorESM2-MM_daily_rainfall_NSW.csv\n",
      "-rw-r--r--   1 mrnabiz  staff  328787320 Apr  1 09:02 CMCC-CM2-SR5_daily_rainfall_NSW.csv\n",
      "-rw-r--r--   1 mrnabiz  staff   93829697 Apr  1 09:02 KIOST-ESM_daily_rainfall_NSW.csv\n",
      "-rw-r--r--   1 mrnabiz  staff  102692289 Apr  1 09:02 INM-CM5-0_daily_rainfall_NSW.csv\n",
      "-rw-r--r--   1 mrnabiz  staff  206822938 Apr  1 09:02 MIROC6_daily_rainfall_NSW.csv\n",
      "-rw-r--r--   1 mrnabiz  staff   55224437 Apr  1 09:02 BCC-ESM1_daily_rainfall_NSW.csv\n",
      "-rw-r--r--   1 mrnabiz  staff  124586961 Apr  1 09:02 GFDL-ESM4_daily_rainfall_NSW.csv\n",
      "-rw-r--r--   1 mrnabiz  staff   46286371 Apr  1 09:02 CanESM5_daily_rainfall_NSW.csv\n",
      "-rw-r--r--   1 mrnabiz  staff  333489879 Apr  1 09:02 SAM0-UNICON_daily_rainfall_NSW.csv\n",
      "drwxr-xr-x  30 mrnabiz  staff        960 Apr  1 09:02 \u001b[1m\u001b[34m__MACOSX\u001b[m\u001b[m/\n"
     ]
    }
   ],
   "source": [
    "%ls -ltr figshare/"
   ]
  },
  {
   "cell_type": "markdown",
   "id": "1651f094-1f4e-4ff7-83ab-6dfb98fc2ee6",
   "metadata": {},
   "source": [
    "## 4. Combining data CSVs"
   ]
  },
  {
   "cell_type": "code",
   "execution_count": 9,
   "id": "b9bbedad-d84e-4532-bec4-efc58fe39eb9",
   "metadata": {},
   "outputs": [
    {
     "name": "stdout",
     "output_type": "stream",
     "text": [
      "CPU times: user 5min 10s, sys: 10.8 s, total: 5min 21s\n",
      "Wall time: 5min 24s\n"
     ]
    }
   ],
   "source": [
    "%%time\n",
    "## here we are using a normal python way for merging the data \n",
    "import pandas as pd\n",
    "use_cols = [\"time\", \"lat_min\", \"lat_max\", \"lon_min\", \"lon_max\", \"rain (mm/day)\"]\n",
    "files = glob.glob('figshare/*.csv')\n",
    "df = pd.concat((pd.read_csv(file, index_col=0, usecols=use_cols)\n",
    "                .assign(model=re.findall(\"/([^_]*)\", file)[0])\n",
    "                for file in files)\n",
    "              )\n",
    "df.to_csv(\"figshare/combined_data.csv\")"
   ]
  },
  {
   "attachments": {},
   "cell_type": "markdown",
   "id": "e3989cf9-00b1-47be-951e-542184e17bb4",
   "metadata": {},
   "source": [
    "### Results Comparison:\n",
    "| Team Member | Operating System | RAM | Processor | Is SSD | Time taken |\n",
    "|:-----------:|:----------------:|:---:|:---------:|:------:|:----------:|\n",
    "| Mengjun Chen    | MacOS    |  8GB   |    Apple M1       |   Yes     |   17 Mins         |\n",
    "| Qurat-ul-Ain Azim    |     MacOS             |   8GB  |     Intel      |      No   | 22 Mins and 14 Seconds |\n",
    "| Ashwin Babu    |      MacOS            |  8GB   |    Apple M2       |   Yes    |   18 Mins         |\n",
    "| Mohammad Reza Nabizadeh | MacOS | 16GB | Apple M2 | YES | 5 Mins and 24 Seconds|"
   ]
  },
  {
   "cell_type": "markdown",
   "id": "636a8214-9a23-492f-93cd-294d735bcc74",
   "metadata": {},
   "source": [
    "## 5. Load the combined CSV to memory and perform a simple EDA\n",
    "### Changing `dtype`of data"
   ]
  },
  {
   "cell_type": "code",
   "execution_count": 10,
   "id": "6e391f0d-836b-4743-a88d-70b08588cba6",
   "metadata": {},
   "outputs": [],
   "source": [
    "use_cols = [\"time\", \"lat_min\", \"lat_max\", \"lon_min\", \"lon_max\", \"rain (mm/day)\", \"model\"]\n",
    "df = pd.read_csv(\"figshare/combined_data.csv\",usecols=use_cols)"
   ]
  },
  {
   "cell_type": "code",
   "execution_count": 11,
   "id": "4ab4c4de-8dc2-4a5a-bbf3-11461688171a",
   "metadata": {},
   "outputs": [
    {
     "name": "stdout",
     "output_type": "stream",
     "text": [
      "MPI-ESM1-2-HR       5154240\n",
      "CMCC-CM2-HR4        3541230\n",
      "CMCC-ESM2           3541230\n",
      "CMCC-CM2-SR5        3541230\n",
      "NorESM2-MM          3541230\n",
      "TaiESM1             3541230\n",
      "SAM0-UNICON         3541153\n",
      "GFDL-ESM4           3219300\n",
      "FGOALS-f3-L         3219300\n",
      "GFDL-CM4            3219300\n",
      "MRI-ESM2-0          3037320\n",
      "EC-Earth3-Veg-LR    3037320\n",
      "BCC-CSM2-MR         3035340\n",
      "MIROC6              2070900\n",
      "ACCESS-CM2          1932840\n",
      "ACCESS-ESM1-5       1610700\n",
      "INM-CM4-8           1609650\n",
      "INM-CM5-0           1609650\n",
      "FGOALS-g3           1287720\n",
      "KIOST-ESM           1287720\n",
      "AWI-ESM-1-1-LR       966420\n",
      "MPI-ESM1-2-LR        966420\n",
      "NESM3                966420\n",
      "MPI-ESM-1-2-HAM      966420\n",
      "NorESM2-LM           919800\n",
      "BCC-ESM1             551880\n",
      "CanESM5              551880\n",
      "Name: model, dtype: int64\n",
      "CPU times: user 3.13 s, sys: 149 ms, total: 3.28 s\n",
      "Wall time: 3.27 s\n"
     ]
    }
   ],
   "source": [
    "%%time\n",
    "print(df[\"model\"].value_counts())"
   ]
  },
  {
   "cell_type": "code",
   "execution_count": 12,
   "id": "e104a7a4-8cec-47e1-bb41-f0111766e425",
   "metadata": {},
   "outputs": [
    {
     "name": "stdout",
     "output_type": "stream",
     "text": [
      "<class 'pandas.core.frame.DataFrame'>\n",
      "RangeIndex: 62467843 entries, 0 to 62467842\n",
      "Data columns (total 7 columns):\n",
      " #   Column         Dtype  \n",
      "---  ------         -----  \n",
      " 0   time           object \n",
      " 1   lat_min        float64\n",
      " 2   lat_max        float64\n",
      " 3   lon_min        float64\n",
      " 4   lon_max        float64\n",
      " 5   rain (mm/day)  float64\n",
      " 6   model          object \n",
      "dtypes: float64(5), object(2)\n",
      "memory usage: 3.3+ GB\n",
      "CPU times: user 3.1 ms, sys: 2.18 ms, total: 5.28 ms\n",
      "Wall time: 7.45 ms\n"
     ]
    }
   ],
   "source": [
    "%%time\n",
    "df.info()"
   ]
  },
  {
   "cell_type": "code",
   "execution_count": 13,
   "id": "d1bf5b20-179f-48b6-a489-e7fa3ccbda23",
   "metadata": {},
   "outputs": [
    {
     "name": "stdout",
     "output_type": "stream",
     "text": [
      "CPU times: user 11.3 s, sys: 3.06 s, total: 14.3 s\n",
      "Wall time: 14.6 s\n"
     ]
    },
    {
     "data": {
      "text/html": [
       "<div>\n",
       "<style scoped>\n",
       "    .dataframe tbody tr th:only-of-type {\n",
       "        vertical-align: middle;\n",
       "    }\n",
       "\n",
       "    .dataframe tbody tr th {\n",
       "        vertical-align: top;\n",
       "    }\n",
       "\n",
       "    .dataframe thead th {\n",
       "        text-align: right;\n",
       "    }\n",
       "</style>\n",
       "<table border=\"1\" class=\"dataframe\">\n",
       "  <thead>\n",
       "    <tr style=\"text-align: right;\">\n",
       "      <th></th>\n",
       "      <th>lat_min</th>\n",
       "      <th>lat_max</th>\n",
       "      <th>lon_min</th>\n",
       "      <th>lon_max</th>\n",
       "      <th>rain (mm/day)</th>\n",
       "    </tr>\n",
       "  </thead>\n",
       "  <tbody>\n",
       "    <tr>\n",
       "      <th>count</th>\n",
       "      <td>5.924854e+07</td>\n",
       "      <td>6.246784e+07</td>\n",
       "      <td>5.924854e+07</td>\n",
       "      <td>6.246784e+07</td>\n",
       "      <td>5.924854e+07</td>\n",
       "    </tr>\n",
       "    <tr>\n",
       "      <th>mean</th>\n",
       "      <td>-3.310482e+01</td>\n",
       "      <td>-3.197757e+01</td>\n",
       "      <td>1.469059e+02</td>\n",
       "      <td>1.482150e+02</td>\n",
       "      <td>1.901170e+00</td>\n",
       "    </tr>\n",
       "    <tr>\n",
       "      <th>std</th>\n",
       "      <td>1.963549e+00</td>\n",
       "      <td>1.992067e+00</td>\n",
       "      <td>3.793784e+00</td>\n",
       "      <td>3.809994e+00</td>\n",
       "      <td>5.585735e+00</td>\n",
       "    </tr>\n",
       "    <tr>\n",
       "      <th>min</th>\n",
       "      <td>-3.646739e+01</td>\n",
       "      <td>-3.600000e+01</td>\n",
       "      <td>1.406250e+02</td>\n",
       "      <td>1.412500e+02</td>\n",
       "      <td>-3.807373e-12</td>\n",
       "    </tr>\n",
       "    <tr>\n",
       "      <th>25%</th>\n",
       "      <td>-3.486911e+01</td>\n",
       "      <td>-3.366221e+01</td>\n",
       "      <td>1.434375e+02</td>\n",
       "      <td>1.450000e+02</td>\n",
       "      <td>3.838413e-06</td>\n",
       "    </tr>\n",
       "    <tr>\n",
       "      <th>50%</th>\n",
       "      <td>-3.300000e+01</td>\n",
       "      <td>-3.204188e+01</td>\n",
       "      <td>1.468750e+02</td>\n",
       "      <td>1.481250e+02</td>\n",
       "      <td>6.154947e-02</td>\n",
       "    </tr>\n",
       "    <tr>\n",
       "      <th>75%</th>\n",
       "      <td>-3.140170e+01</td>\n",
       "      <td>-3.015707e+01</td>\n",
       "      <td>1.501875e+02</td>\n",
       "      <td>1.513125e+02</td>\n",
       "      <td>1.020918e+00</td>\n",
       "    </tr>\n",
       "    <tr>\n",
       "      <th>max</th>\n",
       "      <td>-2.990000e+01</td>\n",
       "      <td>-2.790606e+01</td>\n",
       "      <td>1.537500e+02</td>\n",
       "      <td>1.556250e+02</td>\n",
       "      <td>4.329395e+02</td>\n",
       "    </tr>\n",
       "  </tbody>\n",
       "</table>\n",
       "</div>"
      ],
      "text/plain": [
       "            lat_min       lat_max       lon_min       lon_max  rain (mm/day)\n",
       "count  5.924854e+07  6.246784e+07  5.924854e+07  6.246784e+07   5.924854e+07\n",
       "mean  -3.310482e+01 -3.197757e+01  1.469059e+02  1.482150e+02   1.901170e+00\n",
       "std    1.963549e+00  1.992067e+00  3.793784e+00  3.809994e+00   5.585735e+00\n",
       "min   -3.646739e+01 -3.600000e+01  1.406250e+02  1.412500e+02  -3.807373e-12\n",
       "25%   -3.486911e+01 -3.366221e+01  1.434375e+02  1.450000e+02   3.838413e-06\n",
       "50%   -3.300000e+01 -3.204188e+01  1.468750e+02  1.481250e+02   6.154947e-02\n",
       "75%   -3.140170e+01 -3.015707e+01  1.501875e+02  1.513125e+02   1.020918e+00\n",
       "max   -2.990000e+01 -2.790606e+01  1.537500e+02  1.556250e+02   4.329395e+02"
      ]
     },
     "execution_count": 13,
     "metadata": {},
     "output_type": "execute_result"
    }
   ],
   "source": [
    "%%time\n",
    "df.describe()"
   ]
  },
  {
   "cell_type": "code",
   "execution_count": 14,
   "id": "4a1caa3e-7ec1-4682-85b4-e0f20e1994f1",
   "metadata": {},
   "outputs": [
    {
     "name": "stdout",
     "output_type": "stream",
     "text": [
      "Memory usage with float64: 2998.46 MB\n",
      "Memory usage with float32: 1749.10 MB\n"
     ]
    }
   ],
   "source": [
    "print(f\"Memory usage with float64: {df[['lat_min', 'lat_max', 'lon_min' ,'lon_max', 'rain (mm/day)', 'model']].memory_usage().sum() / 1e6:.2f} MB\")\n",
    "print(f\"Memory usage with float32: {df[['lat_min', 'lat_max', 'lon_min' ,'lon_max', 'rain (mm/day)', 'model']].astype('float32', errors='ignore').memory_usage().sum() / 1e6:.2f} MB\")"
   ]
  },
  {
   "cell_type": "code",
   "execution_count": 15,
   "id": "8da60c50-aaab-4ce8-8f68-df00d45a27f7",
   "metadata": {},
   "outputs": [],
   "source": [
    "df[['lat_min', 'lat_max', 'lon_min' ,'lon_max', 'rain (mm/day)', 'model']] = \\\n",
    "df[['lat_min', 'lat_max', 'lon_min' ,'lon_max', 'rain (mm/day)', 'model']].astype('float32', errors='ignore')"
   ]
  },
  {
   "cell_type": "code",
   "execution_count": 16,
   "id": "5f39816d-4ce3-47bc-bdcd-6b0dbcfbcb6e",
   "metadata": {},
   "outputs": [
    {
     "name": "stdout",
     "output_type": "stream",
     "text": [
      "MPI-ESM1-2-HR       5154240\n",
      "CMCC-CM2-HR4        3541230\n",
      "CMCC-ESM2           3541230\n",
      "CMCC-CM2-SR5        3541230\n",
      "NorESM2-MM          3541230\n",
      "TaiESM1             3541230\n",
      "SAM0-UNICON         3541153\n",
      "GFDL-ESM4           3219300\n",
      "FGOALS-f3-L         3219300\n",
      "GFDL-CM4            3219300\n",
      "MRI-ESM2-0          3037320\n",
      "EC-Earth3-Veg-LR    3037320\n",
      "BCC-CSM2-MR         3035340\n",
      "MIROC6              2070900\n",
      "ACCESS-CM2          1932840\n",
      "ACCESS-ESM1-5       1610700\n",
      "INM-CM4-8           1609650\n",
      "INM-CM5-0           1609650\n",
      "FGOALS-g3           1287720\n",
      "KIOST-ESM           1287720\n",
      "AWI-ESM-1-1-LR       966420\n",
      "MPI-ESM1-2-LR        966420\n",
      "NESM3                966420\n",
      "MPI-ESM-1-2-HAM      966420\n",
      "NorESM2-LM           919800\n",
      "BCC-ESM1             551880\n",
      "CanESM5              551880\n",
      "Name: model, dtype: int64\n",
      "CPU times: user 3.11 s, sys: 39.2 ms, total: 3.15 s\n",
      "Wall time: 3.14 s\n"
     ]
    }
   ],
   "source": [
    "%%time\n",
    "print(df[\"model\"].value_counts())"
   ]
  },
  {
   "cell_type": "code",
   "execution_count": 17,
   "id": "a0877144-9a83-41e7-b7c5-a030ba1bd038",
   "metadata": {},
   "outputs": [
    {
     "name": "stdout",
     "output_type": "stream",
     "text": [
      "<class 'pandas.core.frame.DataFrame'>\n",
      "RangeIndex: 62467843 entries, 0 to 62467842\n",
      "Data columns (total 7 columns):\n",
      " #   Column         Dtype  \n",
      "---  ------         -----  \n",
      " 0   time           object \n",
      " 1   lat_min        float32\n",
      " 2   lat_max        float32\n",
      " 3   lon_min        float32\n",
      " 4   lon_max        float32\n",
      " 5   rain (mm/day)  float32\n",
      " 6   model          object \n",
      "dtypes: float32(5), object(2)\n",
      "memory usage: 2.1+ GB\n",
      "CPU times: user 2.87 ms, sys: 665 µs, total: 3.54 ms\n",
      "Wall time: 3.37 ms\n"
     ]
    }
   ],
   "source": [
    "%%time\n",
    "df.info()"
   ]
  },
  {
   "cell_type": "code",
   "execution_count": 18,
   "id": "817af653-a034-42e7-bf3b-111bec5b1ac1",
   "metadata": {},
   "outputs": [
    {
     "name": "stdout",
     "output_type": "stream",
     "text": [
      "CPU times: user 10.5 s, sys: 1.29 s, total: 11.8 s\n",
      "Wall time: 11.8 s\n"
     ]
    },
    {
     "data": {
      "text/html": [
       "<div>\n",
       "<style scoped>\n",
       "    .dataframe tbody tr th:only-of-type {\n",
       "        vertical-align: middle;\n",
       "    }\n",
       "\n",
       "    .dataframe tbody tr th {\n",
       "        vertical-align: top;\n",
       "    }\n",
       "\n",
       "    .dataframe thead th {\n",
       "        text-align: right;\n",
       "    }\n",
       "</style>\n",
       "<table border=\"1\" class=\"dataframe\">\n",
       "  <thead>\n",
       "    <tr style=\"text-align: right;\">\n",
       "      <th></th>\n",
       "      <th>lat_min</th>\n",
       "      <th>lat_max</th>\n",
       "      <th>lon_min</th>\n",
       "      <th>lon_max</th>\n",
       "      <th>rain (mm/day)</th>\n",
       "    </tr>\n",
       "  </thead>\n",
       "  <tbody>\n",
       "    <tr>\n",
       "      <th>count</th>\n",
       "      <td>5.924854e+07</td>\n",
       "      <td>6.246784e+07</td>\n",
       "      <td>5.924854e+07</td>\n",
       "      <td>6.246784e+07</td>\n",
       "      <td>5.924854e+07</td>\n",
       "    </tr>\n",
       "    <tr>\n",
       "      <th>mean</th>\n",
       "      <td>-3.310497e+01</td>\n",
       "      <td>-3.197765e+01</td>\n",
       "      <td>1.469057e+02</td>\n",
       "      <td>1.482150e+02</td>\n",
       "      <td>1.901173e+00</td>\n",
       "    </tr>\n",
       "    <tr>\n",
       "      <th>std</th>\n",
       "      <td>1.963549e+00</td>\n",
       "      <td>1.992067e+00</td>\n",
       "      <td>3.793784e+00</td>\n",
       "      <td>3.809994e+00</td>\n",
       "      <td>5.585735e+00</td>\n",
       "    </tr>\n",
       "    <tr>\n",
       "      <th>min</th>\n",
       "      <td>-3.646739e+01</td>\n",
       "      <td>-3.600000e+01</td>\n",
       "      <td>1.406250e+02</td>\n",
       "      <td>1.412500e+02</td>\n",
       "      <td>-3.807373e-12</td>\n",
       "    </tr>\n",
       "    <tr>\n",
       "      <th>25%</th>\n",
       "      <td>-3.486911e+01</td>\n",
       "      <td>-3.366221e+01</td>\n",
       "      <td>1.434375e+02</td>\n",
       "      <td>1.450000e+02</td>\n",
       "      <td>3.838413e-06</td>\n",
       "    </tr>\n",
       "    <tr>\n",
       "      <th>50%</th>\n",
       "      <td>-3.300000e+01</td>\n",
       "      <td>-3.204189e+01</td>\n",
       "      <td>1.468750e+02</td>\n",
       "      <td>1.481250e+02</td>\n",
       "      <td>6.154947e-02</td>\n",
       "    </tr>\n",
       "    <tr>\n",
       "      <th>75%</th>\n",
       "      <td>-3.140170e+01</td>\n",
       "      <td>-3.015707e+01</td>\n",
       "      <td>1.501875e+02</td>\n",
       "      <td>1.513125e+02</td>\n",
       "      <td>1.020918e+00</td>\n",
       "    </tr>\n",
       "    <tr>\n",
       "      <th>max</th>\n",
       "      <td>-2.990000e+01</td>\n",
       "      <td>-2.790606e+01</td>\n",
       "      <td>1.537500e+02</td>\n",
       "      <td>1.556250e+02</td>\n",
       "      <td>4.329395e+02</td>\n",
       "    </tr>\n",
       "  </tbody>\n",
       "</table>\n",
       "</div>"
      ],
      "text/plain": [
       "            lat_min       lat_max       lon_min       lon_max  rain (mm/day)\n",
       "count  5.924854e+07  6.246784e+07  5.924854e+07  6.246784e+07   5.924854e+07\n",
       "mean  -3.310497e+01 -3.197765e+01  1.469057e+02  1.482150e+02   1.901173e+00\n",
       "std    1.963549e+00  1.992067e+00  3.793784e+00  3.809994e+00   5.585735e+00\n",
       "min   -3.646739e+01 -3.600000e+01  1.406250e+02  1.412500e+02  -3.807373e-12\n",
       "25%   -3.486911e+01 -3.366221e+01  1.434375e+02  1.450000e+02   3.838413e-06\n",
       "50%   -3.300000e+01 -3.204189e+01  1.468750e+02  1.481250e+02   6.154947e-02\n",
       "75%   -3.140170e+01 -3.015707e+01  1.501875e+02  1.513125e+02   1.020918e+00\n",
       "max   -2.990000e+01 -2.790606e+01  1.537500e+02  1.556250e+02   4.329395e+02"
      ]
     },
     "execution_count": 18,
     "metadata": {},
     "output_type": "execute_result"
    }
   ],
   "source": [
    "%%time\n",
    "df.describe()"
   ]
  },
  {
   "attachments": {},
   "cell_type": "markdown",
   "id": "7998b017-3200-4db1-9f23-339a84061417",
   "metadata": {},
   "source": [
    "### Results Comparison:\n",
    "- **Mengjun Chen:**\n",
    "I chunk the entire dataset into chunks, I picked the first one:\n",
    "  - The `corr` time is 14 ms for 20000 sample chunk. \n",
    "  - The `info` time is 44.1 ms.\n",
    "  - The `describe` time is 30.8 ms.\n",
    "- **Qurat-ul-Ain Azim:**\n",
    "By changing the type the float values from float 64 to float 32:\n",
    "  - The `value_counts` time changed from 18.2 s to 16.7 s.\n",
    "  - The `info` time changed from 55.3 ms to 59.1 ms.\n",
    "  - The `describe` time changed from 49.3 s to  40.4 s.\n",
    "\n",
    "- **Ashwin Babu:**\n",
    "By changing the type the float values from float 64 to float 32:\n",
    "  - The `value_counts` time changed from 16.2 s to 13.7 s.\n",
    "  - The `info` time changed from 47.3 ms to 53.1 ms.\n",
    "  - The `describe` time changed from 45.3 s to  37.2 s.\n",
    "\n",
    "- **Mohammad Reza Nabizadeh:**\n",
    "By changing the type the float values from float 64 to float 32:\n",
    "  - The `value_counts` time dropped from 3.14 s to 3.09 s.\n",
    "  - The `info` time dropped from 4.35 ms to 6.81 ms.\n",
    "  - The `describe` time dropped from 15 s to 11.8 s.\n",
    "  \n",
    "### Load just columns that we want"
   ]
  },
  {
   "cell_type": "code",
   "execution_count": 19,
   "id": "f45bc685-9ef7-495d-83b4-d0c92296c47b",
   "metadata": {},
   "outputs": [],
   "source": [
    "use_cols = [\"time\", \"lat_min\", \"lon_min\", \"rain (mm/day)\", \"model\"]\n",
    "df = pd.read_csv(\"figshare/combined_data.csv\",usecols=use_cols)"
   ]
  },
  {
   "cell_type": "code",
   "execution_count": 20,
   "id": "fca5e532-f8c0-4a10-a883-d245afffa676",
   "metadata": {},
   "outputs": [
    {
     "name": "stdout",
     "output_type": "stream",
     "text": [
      "MPI-ESM1-2-HR       5154240\n",
      "CMCC-CM2-HR4        3541230\n",
      "CMCC-ESM2           3541230\n",
      "CMCC-CM2-SR5        3541230\n",
      "NorESM2-MM          3541230\n",
      "TaiESM1             3541230\n",
      "SAM0-UNICON         3541153\n",
      "GFDL-ESM4           3219300\n",
      "FGOALS-f3-L         3219300\n",
      "GFDL-CM4            3219300\n",
      "MRI-ESM2-0          3037320\n",
      "EC-Earth3-Veg-LR    3037320\n",
      "BCC-CSM2-MR         3035340\n",
      "MIROC6              2070900\n",
      "ACCESS-CM2          1932840\n",
      "ACCESS-ESM1-5       1610700\n",
      "INM-CM4-8           1609650\n",
      "INM-CM5-0           1609650\n",
      "FGOALS-g3           1287720\n",
      "KIOST-ESM           1287720\n",
      "AWI-ESM-1-1-LR       966420\n",
      "MPI-ESM1-2-LR        966420\n",
      "NESM3                966420\n",
      "MPI-ESM-1-2-HAM      966420\n",
      "NorESM2-LM           919800\n",
      "BCC-ESM1             551880\n",
      "CanESM5              551880\n",
      "Name: model, dtype: int64\n",
      "CPU times: user 3.11 s, sys: 106 ms, total: 3.21 s\n",
      "Wall time: 3.21 s\n"
     ]
    }
   ],
   "source": [
    "%%time\n",
    "print(df[\"model\"].value_counts())"
   ]
  },
  {
   "cell_type": "code",
   "execution_count": 21,
   "id": "5f4e4f71-529e-458f-9423-309645969ce7",
   "metadata": {},
   "outputs": [
    {
     "name": "stdout",
     "output_type": "stream",
     "text": [
      "<class 'pandas.core.frame.DataFrame'>\n",
      "RangeIndex: 62467843 entries, 0 to 62467842\n",
      "Data columns (total 5 columns):\n",
      " #   Column         Dtype  \n",
      "---  ------         -----  \n",
      " 0   time           object \n",
      " 1   lat_min        float64\n",
      " 2   lon_min        float64\n",
      " 3   rain (mm/day)  float64\n",
      " 4   model          object \n",
      "dtypes: float64(3), object(2)\n",
      "memory usage: 2.3+ GB\n",
      "CPU times: user 2.86 ms, sys: 1.36 ms, total: 4.22 ms\n",
      "Wall time: 3.96 ms\n"
     ]
    }
   ],
   "source": [
    "%%time\n",
    "df.info()"
   ]
  },
  {
   "cell_type": "code",
   "execution_count": 22,
   "id": "2f45771c-9f07-4f0e-8c35-270f0399e271",
   "metadata": {},
   "outputs": [
    {
     "name": "stdout",
     "output_type": "stream",
     "text": [
      "CPU times: user 7.42 s, sys: 2.05 s, total: 9.47 s\n",
      "Wall time: 9.63 s\n"
     ]
    },
    {
     "data": {
      "text/html": [
       "<div>\n",
       "<style scoped>\n",
       "    .dataframe tbody tr th:only-of-type {\n",
       "        vertical-align: middle;\n",
       "    }\n",
       "\n",
       "    .dataframe tbody tr th {\n",
       "        vertical-align: top;\n",
       "    }\n",
       "\n",
       "    .dataframe thead th {\n",
       "        text-align: right;\n",
       "    }\n",
       "</style>\n",
       "<table border=\"1\" class=\"dataframe\">\n",
       "  <thead>\n",
       "    <tr style=\"text-align: right;\">\n",
       "      <th></th>\n",
       "      <th>lat_min</th>\n",
       "      <th>lon_min</th>\n",
       "      <th>rain (mm/day)</th>\n",
       "    </tr>\n",
       "  </thead>\n",
       "  <tbody>\n",
       "    <tr>\n",
       "      <th>count</th>\n",
       "      <td>5.924854e+07</td>\n",
       "      <td>5.924854e+07</td>\n",
       "      <td>5.924854e+07</td>\n",
       "    </tr>\n",
       "    <tr>\n",
       "      <th>mean</th>\n",
       "      <td>-3.310482e+01</td>\n",
       "      <td>1.469059e+02</td>\n",
       "      <td>1.901170e+00</td>\n",
       "    </tr>\n",
       "    <tr>\n",
       "      <th>std</th>\n",
       "      <td>1.963549e+00</td>\n",
       "      <td>3.793784e+00</td>\n",
       "      <td>5.585735e+00</td>\n",
       "    </tr>\n",
       "    <tr>\n",
       "      <th>min</th>\n",
       "      <td>-3.646739e+01</td>\n",
       "      <td>1.406250e+02</td>\n",
       "      <td>-3.807373e-12</td>\n",
       "    </tr>\n",
       "    <tr>\n",
       "      <th>25%</th>\n",
       "      <td>-3.486911e+01</td>\n",
       "      <td>1.434375e+02</td>\n",
       "      <td>3.838413e-06</td>\n",
       "    </tr>\n",
       "    <tr>\n",
       "      <th>50%</th>\n",
       "      <td>-3.300000e+01</td>\n",
       "      <td>1.468750e+02</td>\n",
       "      <td>6.154947e-02</td>\n",
       "    </tr>\n",
       "    <tr>\n",
       "      <th>75%</th>\n",
       "      <td>-3.140170e+01</td>\n",
       "      <td>1.501875e+02</td>\n",
       "      <td>1.020918e+00</td>\n",
       "    </tr>\n",
       "    <tr>\n",
       "      <th>max</th>\n",
       "      <td>-2.990000e+01</td>\n",
       "      <td>1.537500e+02</td>\n",
       "      <td>4.329395e+02</td>\n",
       "    </tr>\n",
       "  </tbody>\n",
       "</table>\n",
       "</div>"
      ],
      "text/plain": [
       "            lat_min       lon_min  rain (mm/day)\n",
       "count  5.924854e+07  5.924854e+07   5.924854e+07\n",
       "mean  -3.310482e+01  1.469059e+02   1.901170e+00\n",
       "std    1.963549e+00  3.793784e+00   5.585735e+00\n",
       "min   -3.646739e+01  1.406250e+02  -3.807373e-12\n",
       "25%   -3.486911e+01  1.434375e+02   3.838413e-06\n",
       "50%   -3.300000e+01  1.468750e+02   6.154947e-02\n",
       "75%   -3.140170e+01  1.501875e+02   1.020918e+00\n",
       "max   -2.990000e+01  1.537500e+02   4.329395e+02"
      ]
     },
     "execution_count": 22,
     "metadata": {},
     "output_type": "execute_result"
    }
   ],
   "source": [
    "%%time\n",
    "df.describe()"
   ]
  },
  {
   "attachments": {},
   "cell_type": "markdown",
   "id": "490462b4-496a-406d-b678-6d9280dbeaa8",
   "metadata": {},
   "source": [
    "### Results Comparison:\n",
    "- **Mengjun Chen:**\n",
    "By just selecting the columns of the data we need with in one single chunk:\n",
    "  - The `info` time is 40.3 ms.\n",
    "  - The `describe` time is 32.3 ms.\n",
    "\n",
    "- **Qurat-ul-Ain Azim:**\n",
    "By just selecting the columns of the data we need:\n",
    "  - The `value_counts` time changed from 18.2 s to 15.9 s.\n",
    "  - The `info` time changed from 55.3 ms to 78.9 ms.\n",
    "  - The `describe` time changed from 49.3 s to  38.5 s.\n",
    "  \n",
    "- **Ashwin Babu:**\n",
    "By just selecting the columns that we want from the data:\n",
    " - The `info` time changed from 53ms to 65ms.\n",
    " - The `value_counts` time changed from 16 to 11 s.\n",
    " - The `describe` time changed from 43 s to 37 s.  \n",
    "\n",
    "- **Mohammad Reza Nabizadeh:**\n",
    "By just selecting the columns of the data we need:\n",
    "  - The `value_counts` time dropped from 3.14 s to 3.09 s.\n",
    "  - The `info` time dropped from 4.35 ms to 5.78 ms.\n",
    "  - The `describe` time dropped from 15 s to 8.85 s."
   ]
  },
  {
   "cell_type": "markdown",
   "id": "f5db4fec-5033-4d10-b114-33d296ce6e9d",
   "metadata": {},
   "source": [
    "### Performing EDA in R"
   ]
  },
  {
   "cell_type": "code",
   "execution_count": 24,
   "id": "bdd495b3-2180-40f8-82de-a04d9e576c3c",
   "metadata": {},
   "outputs": [
    {
     "name": "stdout",
     "output_type": "stream",
     "text": [
      "The rpy2.ipython extension is already loaded. To reload it, use:\n",
      "  %reload_ext rpy2.ipython\n"
     ]
    }
   ],
   "source": [
    "%load_ext rpy2.ipython"
   ]
  },
  {
   "cell_type": "code",
   "execution_count": 25,
   "id": "c0d2eece-52ba-46aa-bd79-e2ef05f0b612",
   "metadata": {},
   "outputs": [
    {
     "name": "stdout",
     "output_type": "stream",
     "text": [
      "              model       n\n",
      "1        ACCESS-CM2 1932840\n",
      "2     ACCESS-ESM1-5 1610700\n",
      "3    AWI-ESM-1-1-LR  966420\n",
      "4       BCC-CSM2-MR 3035340\n",
      "5          BCC-ESM1  551880\n",
      "6      CMCC-CM2-HR4 3541230\n",
      "7      CMCC-CM2-SR5 3541230\n",
      "8         CMCC-ESM2 3541230\n",
      "9           CanESM5  551880\n",
      "10 EC-Earth3-Veg-LR 3037320\n",
      "11      FGOALS-f3-L 3219300\n",
      "12        FGOALS-g3 1287720\n",
      "13         GFDL-CM4 3219300\n",
      "14        GFDL-ESM4 3219300\n",
      "15        INM-CM4-8 1609650\n",
      "16        INM-CM5-0 1609650\n",
      "17        KIOST-ESM 1287720\n",
      "18           MIROC6 2070900\n",
      "19  MPI-ESM-1-2-HAM  966420\n",
      "20    MPI-ESM1-2-HR 5154240\n",
      "21    MPI-ESM1-2-LR  966420\n",
      "22       MRI-ESM2-0 3037320\n",
      "23            NESM3  966420\n",
      "24       NorESM2-LM  919800\n",
      "25       NorESM2-MM 3541230\n",
      "26      SAM0-UNICON 3541153\n",
      "27          TaiESM1 3541230\n",
      "Time difference of 3.338877 secs\n",
      "CPU times: user 11min 58s, sys: 1min 32s, total: 13min 31s\n",
      "Wall time: 14min 5s\n"
     ]
    }
   ],
   "source": [
    "%%time\n",
    "%%R -i df\n",
    "start_time <- Sys.time()\n",
    "suppressMessages(library(dplyr))\n",
    "result <- df |> count(model)\n",
    "print(result)\n",
    "end_time <- Sys.time()\n",
    "print(end_time - start_time)"
   ]
  }
 ],
 "metadata": {
  "kernelspec": {
   "display_name": "dsci525_dev",
   "language": "python",
   "name": "python3"
  },
  "language_info": {
   "codemirror_mode": {
    "name": "ipython",
    "version": 3
   },
   "file_extension": ".py",
   "mimetype": "text/x-python",
   "name": "python",
   "nbconvert_exporter": "python",
   "pygments_lexer": "ipython3",
   "version": "3.10.10"
  }
 },
 "nbformat": 4,
 "nbformat_minor": 5
}
